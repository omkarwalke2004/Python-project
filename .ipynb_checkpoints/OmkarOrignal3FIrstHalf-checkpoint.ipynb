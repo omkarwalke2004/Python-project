{
 "cells": [
  {
   "cell_type": "code",
   "execution_count": 1,
   "id": "352a8b91-f322-4b12-a3f4-43b6d5e7ff51",
   "metadata": {},
   "outputs": [],
   "source": [
    "import pandas as pd"
   ]
  },
  {
   "cell_type": "code",
   "execution_count": 2,
   "id": "e8c90066-860f-4e28-b614-f4c0a8b5ed3c",
   "metadata": {},
   "outputs": [],
   "source": [
    "df = pd.read_csv(r\"C:\\\\Users\\\\omkar\\\\Downloads\\\\income.csv\")"
   ]
  },
  {
   "cell_type": "code",
   "execution_count": 3,
   "id": "26d8fe1b-c531-43ec-8844-97b6bbe0bee7",
   "metadata": {},
   "outputs": [
    {
     "data": {
      "text/html": [
       "<div>\n",
       "<style scoped>\n",
       "    .dataframe tbody tr th:only-of-type {\n",
       "        vertical-align: middle;\n",
       "    }\n",
       "\n",
       "    .dataframe tbody tr th {\n",
       "        vertical-align: top;\n",
       "    }\n",
       "\n",
       "    .dataframe thead th {\n",
       "        text-align: right;\n",
       "    }\n",
       "</style>\n",
       "<table border=\"1\" class=\"dataframe\">\n",
       "  <thead>\n",
       "    <tr style=\"text-align: right;\">\n",
       "      <th></th>\n",
       "      <th>id</th>\n",
       "      <th>age</th>\n",
       "      <th>income</th>\n",
       "      <th>occupation</th>\n",
       "      <th>years_of_experience</th>\n",
       "    </tr>\n",
       "  </thead>\n",
       "  <tbody>\n",
       "    <tr>\n",
       "      <th>0</th>\n",
       "      <td>1</td>\n",
       "      <td>25</td>\n",
       "      <td>30000</td>\n",
       "      <td>Engineer</td>\n",
       "      <td>2</td>\n",
       "    </tr>\n",
       "    <tr>\n",
       "      <th>1</th>\n",
       "      <td>2</td>\n",
       "      <td>30</td>\n",
       "      <td>45000</td>\n",
       "      <td>Doctor</td>\n",
       "      <td>5</td>\n",
       "    </tr>\n",
       "    <tr>\n",
       "      <th>2</th>\n",
       "      <td>3</td>\n",
       "      <td>25</td>\n",
       "      <td>32000</td>\n",
       "      <td>Engineer</td>\n",
       "      <td>3</td>\n",
       "    </tr>\n",
       "    <tr>\n",
       "      <th>3</th>\n",
       "      <td>4</td>\n",
       "      <td>35</td>\n",
       "      <td>50000</td>\n",
       "      <td>Teacher</td>\n",
       "      <td>7</td>\n",
       "    </tr>\n",
       "    <tr>\n",
       "      <th>4</th>\n",
       "      <td>5</td>\n",
       "      <td>40</td>\n",
       "      <td>60000</td>\n",
       "      <td>Manager</td>\n",
       "      <td>10</td>\n",
       "    </tr>\n",
       "  </tbody>\n",
       "</table>\n",
       "</div>"
      ],
      "text/plain": [
       "   id  age  income occupation  years_of_experience\n",
       "0   1   25   30000   Engineer                    2\n",
       "1   2   30   45000     Doctor                    5\n",
       "2   3   25   32000   Engineer                    3\n",
       "3   4   35   50000    Teacher                    7\n",
       "4   5   40   60000    Manager                   10"
      ]
     },
     "execution_count": 3,
     "metadata": {},
     "output_type": "execute_result"
    }
   ],
   "source": [
    "df.head()"
   ]
  },
  {
   "cell_type": "code",
   "execution_count": 4,
   "id": "34aa1438-e4c5-4bb0-b16f-a98bc74c119f",
   "metadata": {},
   "outputs": [
    {
     "data": {
      "text/html": [
       "<div>\n",
       "<style scoped>\n",
       "    .dataframe tbody tr th:only-of-type {\n",
       "        vertical-align: middle;\n",
       "    }\n",
       "\n",
       "    .dataframe tbody tr th {\n",
       "        vertical-align: top;\n",
       "    }\n",
       "\n",
       "    .dataframe thead th {\n",
       "        text-align: right;\n",
       "    }\n",
       "</style>\n",
       "<table border=\"1\" class=\"dataframe\">\n",
       "  <thead>\n",
       "    <tr style=\"text-align: right;\">\n",
       "      <th></th>\n",
       "      <th>id</th>\n",
       "      <th>age</th>\n",
       "      <th>income</th>\n",
       "      <th>occupation</th>\n",
       "      <th>years_of_experience</th>\n",
       "    </tr>\n",
       "  </thead>\n",
       "  <tbody>\n",
       "    <tr>\n",
       "      <th>15</th>\n",
       "      <td>16</td>\n",
       "      <td>45</td>\n",
       "      <td>70000</td>\n",
       "      <td>Lawyer</td>\n",
       "      <td>15</td>\n",
       "    </tr>\n",
       "    <tr>\n",
       "      <th>16</th>\n",
       "      <td>17</td>\n",
       "      <td>50</td>\n",
       "      <td>75000</td>\n",
       "      <td>Scientist</td>\n",
       "      <td>20</td>\n",
       "    </tr>\n",
       "    <tr>\n",
       "      <th>17</th>\n",
       "      <td>18</td>\n",
       "      <td>45</td>\n",
       "      <td>73000</td>\n",
       "      <td>Lawyer</td>\n",
       "      <td>14</td>\n",
       "    </tr>\n",
       "    <tr>\n",
       "      <th>18</th>\n",
       "      <td>19</td>\n",
       "      <td>50</td>\n",
       "      <td>78000</td>\n",
       "      <td>Scientist</td>\n",
       "      <td>22</td>\n",
       "    </tr>\n",
       "    <tr>\n",
       "      <th>19</th>\n",
       "      <td>20</td>\n",
       "      <td>45</td>\n",
       "      <td>71000</td>\n",
       "      <td>Lawyer</td>\n",
       "      <td>16</td>\n",
       "    </tr>\n",
       "  </tbody>\n",
       "</table>\n",
       "</div>"
      ],
      "text/plain": [
       "    id  age  income occupation  years_of_experience\n",
       "15  16   45   70000     Lawyer                   15\n",
       "16  17   50   75000  Scientist                   20\n",
       "17  18   45   73000     Lawyer                   14\n",
       "18  19   50   78000  Scientist                   22\n",
       "19  20   45   71000     Lawyer                   16"
      ]
     },
     "execution_count": 4,
     "metadata": {},
     "output_type": "execute_result"
    }
   ],
   "source": [
    "df.tail()"
   ]
  },
  {
   "cell_type": "code",
   "execution_count": 5,
   "id": "888c38e5-e850-4bfd-8621-0b025e1fd11f",
   "metadata": {},
   "outputs": [
    {
     "name": "stdout",
     "output_type": "stream",
     "text": [
      "<class 'pandas.core.frame.DataFrame'>\n",
      "RangeIndex: 20 entries, 0 to 19\n",
      "Data columns (total 5 columns):\n",
      " #   Column               Non-Null Count  Dtype \n",
      "---  ------               --------------  ----- \n",
      " 0   id                   20 non-null     int64 \n",
      " 1   age                  20 non-null     int64 \n",
      " 2   income               20 non-null     int64 \n",
      " 3   occupation           20 non-null     object\n",
      " 4   years_of_experience  20 non-null     int64 \n",
      "dtypes: int64(4), object(1)\n",
      "memory usage: 932.0+ bytes\n"
     ]
    }
   ],
   "source": [
    "df.info()"
   ]
  },
  {
   "cell_type": "code",
   "execution_count": 6,
   "id": "f9811acf-6b9d-4dbc-8f2e-436a697fd7b1",
   "metadata": {},
   "outputs": [
    {
     "name": "stdout",
     "output_type": "stream",
     "text": [
      "(20, 5)\n",
      "100\n",
      "2\n",
      "Index(['id', 'age', 'income', 'occupation', 'years_of_experience'], dtype='object')\n"
     ]
    }
   ],
   "source": [
    "print(df.shape)\n",
    "print(df.size)\n",
    "print(df.ndim)\n",
    "print(df.columns)"
   ]
  },
  {
   "cell_type": "code",
   "execution_count": 7,
   "id": "3bf743cf-4978-4a5d-b1b5-985e7ec31d22",
   "metadata": {},
   "outputs": [
    {
     "name": "stdout",
     "output_type": "stream",
     "text": [
      "       id    age  income  occupation  years_of_experience\n",
      "0   False  False   False       False                False\n",
      "1   False  False   False       False                False\n",
      "2   False  False   False       False                False\n",
      "3   False  False   False       False                False\n",
      "4   False  False   False       False                False\n",
      "5   False  False   False       False                False\n",
      "6   False  False   False       False                False\n",
      "7   False  False   False       False                False\n",
      "8   False  False   False       False                False\n",
      "9   False  False   False       False                False\n",
      "10  False  False   False       False                False\n",
      "11  False  False   False       False                False\n",
      "12  False  False   False       False                False\n",
      "13  False  False   False       False                False\n",
      "14  False  False   False       False                False\n",
      "15  False  False   False       False                False\n",
      "16  False  False   False       False                False\n",
      "17  False  False   False       False                False\n",
      "18  False  False   False       False                False\n",
      "19  False  False   False       False                False\n",
      "       id    age  income  occupation  years_of_experience\n",
      "0   False  False   False       False                False\n",
      "1   False  False   False       False                False\n",
      "2   False  False   False       False                False\n",
      "3   False  False   False       False                False\n",
      "4   False  False   False       False                False\n",
      "5   False  False   False       False                False\n",
      "6   False  False   False       False                False\n",
      "7   False  False   False       False                False\n",
      "8   False  False   False       False                False\n",
      "9   False  False   False       False                False\n",
      "10  False  False   False       False                False\n",
      "11  False  False   False       False                False\n",
      "12  False  False   False       False                False\n",
      "13  False  False   False       False                False\n",
      "14  False  False   False       False                False\n",
      "15  False  False   False       False                False\n",
      "16  False  False   False       False                False\n",
      "17  False  False   False       False                False\n",
      "18  False  False   False       False                False\n",
      "19  False  False   False       False                False\n",
      "id                     0\n",
      "age                    0\n",
      "income                 0\n",
      "occupation             0\n",
      "years_of_experience    0\n",
      "dtype: int64\n"
     ]
    }
   ],
   "source": [
    "print(df.isnull())\n",
    "print(df.isna())\n",
    "print(df.isna().sum())"
   ]
  },
  {
   "cell_type": "code",
   "execution_count": 8,
   "id": "3238a861-b143-42e3-a26c-afd0b90aa889",
   "metadata": {},
   "outputs": [],
   "source": [
    "categorical_col = \"age\"  # Change this to your categorical column\n",
    "numerical_col = \"income\"  # Change this to your numerical column\n",
    "\n",
    "# Check for missing values and fill them if necessary\n",
    "df[numerical_col] = df[numerical_col].fillna(df[numerical_col].median())\n",
    "\n",
    "# Compute summary statistics grouped by the categorical column\n",
    "summary_stats = df.groupby(categorical_col)[numerical_col].agg(\n",
    "    mean=\"mean\",\n",
    "    median=\"median\",\n",
    "    min=\"min\",\n",
    "    max=\"max\",\n",
    "    std=\"std\"\n",
    ")"
   ]
  },
  {
   "cell_type": "code",
   "execution_count": 9,
   "id": "67c67d3b-01a1-4895-b36d-e7ac085c81b1",
   "metadata": {},
   "outputs": [
    {
     "name": "stdout",
     "output_type": "stream",
     "text": [
      "\n",
      "Summary Statistics:\n",
      "             mean   median    min    max          std\n",
      "age                                                  \n",
      "25   32000.000000  32000.0  30000  34000  1581.138830\n",
      "30   45500.000000  45500.0  44000  47000  1290.994449\n",
      "35   51000.000000  51000.0  50000  52000  1000.000000\n",
      "40   61000.000000  61000.0  60000  62000  1000.000000\n",
      "45   71333.333333  71000.0  70000  73000  1527.525232\n",
      "50   76500.000000  76500.0  75000  78000  2121.320344\n"
     ]
    }
   ],
   "source": [
    "print(\"\\nSummary Statistics:\")\n",
    "print(summary_stats)"
   ]
  },
  {
   "cell_type": "code",
   "execution_count": 10,
   "id": "d4e2e790-3aa8-4c00-af47-f58b15bcfbac",
   "metadata": {},
   "outputs": [],
   "source": [
    "grouped_values = df.groupby(categorical_col)[numerical_col].apply(list)\n"
   ]
  },
  {
   "cell_type": "code",
   "execution_count": 11,
   "id": "809ef1eb-70e2-4c90-a1b2-bf1470ebd0db",
   "metadata": {},
   "outputs": [
    {
     "name": "stdout",
     "output_type": "stream",
     "text": [
      "\n",
      "Grouped Values as List:\n",
      "age\n",
      "25    [30000, 32000, 31000, 33000, 34000]\n",
      "30           [45000, 47000, 46000, 44000]\n",
      "35                  [50000, 52000, 51000]\n",
      "40                  [60000, 61000, 62000]\n",
      "45                  [70000, 73000, 71000]\n",
      "50                         [75000, 78000]\n",
      "Name: income, dtype: object\n"
     ]
    }
   ],
   "source": [
    "print(\"\\nGrouped Values as List:\")\n",
    "print(grouped_values)"
   ]
  },
  {
   "cell_type": "code",
   "execution_count": null,
   "id": "17d8dc74-21a3-48a8-b9ed-82722d2808da",
   "metadata": {},
   "outputs": [],
   "source": []
  }
 ],
 "metadata": {
  "kernelspec": {
   "display_name": "Python 3 (ipykernel)",
   "language": "python",
   "name": "python3"
  },
  "language_info": {
   "codemirror_mode": {
    "name": "ipython",
    "version": 3
   },
   "file_extension": ".py",
   "mimetype": "text/x-python",
   "name": "python",
   "nbconvert_exporter": "python",
   "pygments_lexer": "ipython3",
   "version": "3.11.7"
  }
 },
 "nbformat": 4,
 "nbformat_minor": 5
}
