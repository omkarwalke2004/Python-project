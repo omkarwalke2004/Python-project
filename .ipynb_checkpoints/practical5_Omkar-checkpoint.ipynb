{
 "cells": [
  {
   "cell_type": "markdown",
   "metadata": {
    "id": "EOug3pWqhcpg"
   },
   "source": [
    "\n",
    "Practical 5:\n",
    "Data Analytics II\n",
    "1. Implement logistic regression using Python/R to perform classification on\n",
    "Social_Network_Ads.csv dataset.\n",
    "2. Compute Confusion matrix to find TP, FP, TN, FN, Accuracy, Error rate, Precision, Recall\n",
    "on the given dataset"
   ]
  },
  {
   "cell_type": "code",
   "execution_count": 1,
   "metadata": {
    "id": "47KXmgU4fWC6"
   },
   "outputs": [],
   "source": [
    "import pandas as pd\n",
    "import numpy as np\n",
    "import matplotlib.pyplot as plt\n",
    "import seaborn as sns\n",
    "from sklearn.model_selection import train_test_split\n",
    "from sklearn.preprocessing import StandardScaler\n",
    "from sklearn.linear_model import LogisticRegression\n",
    "from sklearn.metrics import confusion_matrix, accuracy_score, classification_report, precision_score, recall_score, f1_score\n"
   ]
  },
  {
   "cell_type": "code",
   "execution_count": null,
   "metadata": {
    "colab": {
     "base_uri": "https://localhost:8080/",
     "height": 127
    },
    "id": "5YjsR9hohqv5",
    "outputId": "6110163f-2cc5-4b3d-d1cc-5401b0e67186"
   },
   "outputs": [],
   "source": []
  },
  {
   "cell_type": "code",
   "execution_count": 2,
   "metadata": {
    "id": "gwSA5PMXi3Wa"
   },
   "outputs": [],
   "source": [
    "df = pd.read_csv(r\"C:\\\\Users\\\\omkar\\\\Downloads\\\\Social_Network_Ads_Large.csv\")"
   ]
  },
  {
   "cell_type": "code",
   "execution_count": 3,
   "metadata": {
    "colab": {
     "base_uri": "https://localhost:8080/",
     "height": 206
    },
    "id": "DDQ9teYki_Fh",
    "outputId": "1e6d2f9c-0efd-4e72-e988-911789c96c02"
   },
   "outputs": [
    {
     "data": {
      "text/html": [
       "<div>\n",
       "<style scoped>\n",
       "    .dataframe tbody tr th:only-of-type {\n",
       "        vertical-align: middle;\n",
       "    }\n",
       "\n",
       "    .dataframe tbody tr th {\n",
       "        vertical-align: top;\n",
       "    }\n",
       "\n",
       "    .dataframe thead th {\n",
       "        text-align: right;\n",
       "    }\n",
       "</style>\n",
       "<table border=\"1\" class=\"dataframe\">\n",
       "  <thead>\n",
       "    <tr style=\"text-align: right;\">\n",
       "      <th></th>\n",
       "      <th>User ID</th>\n",
       "      <th>Gender</th>\n",
       "      <th>Age</th>\n",
       "      <th>EstimatedSalary</th>\n",
       "      <th>Purchased</th>\n",
       "    </tr>\n",
       "  </thead>\n",
       "  <tbody>\n",
       "    <tr>\n",
       "      <th>0</th>\n",
       "      <td>15670487</td>\n",
       "      <td>Male</td>\n",
       "      <td>57</td>\n",
       "      <td>34953</td>\n",
       "      <td>0</td>\n",
       "    </tr>\n",
       "    <tr>\n",
       "      <th>1</th>\n",
       "      <td>15116739</td>\n",
       "      <td>Male</td>\n",
       "      <td>40</td>\n",
       "      <td>117195</td>\n",
       "      <td>1</td>\n",
       "    </tr>\n",
       "    <tr>\n",
       "      <th>2</th>\n",
       "      <td>15026225</td>\n",
       "      <td>Male</td>\n",
       "      <td>25</td>\n",
       "      <td>77587</td>\n",
       "      <td>0</td>\n",
       "    </tr>\n",
       "    <tr>\n",
       "      <th>3</th>\n",
       "      <td>15777572</td>\n",
       "      <td>Female</td>\n",
       "      <td>24</td>\n",
       "      <td>136591</td>\n",
       "      <td>0</td>\n",
       "    </tr>\n",
       "    <tr>\n",
       "      <th>4</th>\n",
       "      <td>15288389</td>\n",
       "      <td>Female</td>\n",
       "      <td>57</td>\n",
       "      <td>145412</td>\n",
       "      <td>1</td>\n",
       "    </tr>\n",
       "  </tbody>\n",
       "</table>\n",
       "</div>"
      ],
      "text/plain": [
       "    User ID  Gender  Age  EstimatedSalary  Purchased\n",
       "0  15670487    Male   57            34953          0\n",
       "1  15116739    Male   40           117195          1\n",
       "2  15026225    Male   25            77587          0\n",
       "3  15777572  Female   24           136591          0\n",
       "4  15288389  Female   57           145412          1"
      ]
     },
     "execution_count": 3,
     "metadata": {},
     "output_type": "execute_result"
    }
   ],
   "source": [
    "# check the dataset for missing values and perform EDA\n",
    "df.head()"
   ]
  },
  {
   "cell_type": "code",
   "execution_count": 4,
   "metadata": {
    "colab": {
     "base_uri": "https://localhost:8080/",
     "height": 206
    },
    "id": "KLlwyXjWjKSa",
    "outputId": "af435ce7-6abf-445c-8280-7e5458b10fea"
   },
   "outputs": [
    {
     "data": {
      "text/html": [
       "<div>\n",
       "<style scoped>\n",
       "    .dataframe tbody tr th:only-of-type {\n",
       "        vertical-align: middle;\n",
       "    }\n",
       "\n",
       "    .dataframe tbody tr th {\n",
       "        vertical-align: top;\n",
       "    }\n",
       "\n",
       "    .dataframe thead th {\n",
       "        text-align: right;\n",
       "    }\n",
       "</style>\n",
       "<table border=\"1\" class=\"dataframe\">\n",
       "  <thead>\n",
       "    <tr style=\"text-align: right;\">\n",
       "      <th></th>\n",
       "      <th>User ID</th>\n",
       "      <th>Gender</th>\n",
       "      <th>Age</th>\n",
       "      <th>EstimatedSalary</th>\n",
       "      <th>Purchased</th>\n",
       "    </tr>\n",
       "  </thead>\n",
       "  <tbody>\n",
       "    <tr>\n",
       "      <th>395</th>\n",
       "      <td>15420521</td>\n",
       "      <td>Male</td>\n",
       "      <td>54</td>\n",
       "      <td>61802</td>\n",
       "      <td>1</td>\n",
       "    </tr>\n",
       "    <tr>\n",
       "      <th>396</th>\n",
       "      <td>15946279</td>\n",
       "      <td>Female</td>\n",
       "      <td>19</td>\n",
       "      <td>95176</td>\n",
       "      <td>0</td>\n",
       "    </tr>\n",
       "    <tr>\n",
       "      <th>397</th>\n",
       "      <td>15061483</td>\n",
       "      <td>Female</td>\n",
       "      <td>31</td>\n",
       "      <td>27175</td>\n",
       "      <td>0</td>\n",
       "    </tr>\n",
       "    <tr>\n",
       "      <th>398</th>\n",
       "      <td>15172634</td>\n",
       "      <td>Female</td>\n",
       "      <td>23</td>\n",
       "      <td>26652</td>\n",
       "      <td>0</td>\n",
       "    </tr>\n",
       "    <tr>\n",
       "      <th>399</th>\n",
       "      <td>15397382</td>\n",
       "      <td>Female</td>\n",
       "      <td>57</td>\n",
       "      <td>148813</td>\n",
       "      <td>1</td>\n",
       "    </tr>\n",
       "  </tbody>\n",
       "</table>\n",
       "</div>"
      ],
      "text/plain": [
       "      User ID  Gender  Age  EstimatedSalary  Purchased\n",
       "395  15420521    Male   54            61802          1\n",
       "396  15946279  Female   19            95176          0\n",
       "397  15061483  Female   31            27175          0\n",
       "398  15172634  Female   23            26652          0\n",
       "399  15397382  Female   57           148813          1"
      ]
     },
     "execution_count": 4,
     "metadata": {},
     "output_type": "execute_result"
    }
   ],
   "source": [
    "df.tail()"
   ]
  },
  {
   "cell_type": "code",
   "execution_count": 5,
   "metadata": {
    "colab": {
     "base_uri": "https://localhost:8080/"
    },
    "id": "H58hksTxjLhR",
    "outputId": "e15d8394-5108-41cd-c44f-2cc32a3390a4"
   },
   "outputs": [
    {
     "name": "stdout",
     "output_type": "stream",
     "text": [
      "<class 'pandas.core.frame.DataFrame'>\n",
      "RangeIndex: 400 entries, 0 to 399\n",
      "Data columns (total 5 columns):\n",
      " #   Column           Non-Null Count  Dtype \n",
      "---  ------           --------------  ----- \n",
      " 0   User ID          400 non-null    int64 \n",
      " 1   Gender           400 non-null    object\n",
      " 2   Age              400 non-null    int64 \n",
      " 3   EstimatedSalary  400 non-null    int64 \n",
      " 4   Purchased        400 non-null    int64 \n",
      "dtypes: int64(4), object(1)\n",
      "memory usage: 15.8+ KB\n"
     ]
    }
   ],
   "source": [
    "df.info()"
   ]
  },
  {
   "cell_type": "code",
   "execution_count": 6,
   "metadata": {
    "colab": {
     "base_uri": "https://localhost:8080/",
     "height": 394
    },
    "id": "CEEGIIGrjMZ5",
    "outputId": "359f0385-d5e7-4682-9c83-3ef9eb6a0fa4"
   },
   "outputs": [
    {
     "data": {
      "text/html": [
       "<div>\n",
       "<style scoped>\n",
       "    .dataframe tbody tr th:only-of-type {\n",
       "        vertical-align: middle;\n",
       "    }\n",
       "\n",
       "    .dataframe tbody tr th {\n",
       "        vertical-align: top;\n",
       "    }\n",
       "\n",
       "    .dataframe thead th {\n",
       "        text-align: right;\n",
       "    }\n",
       "</style>\n",
       "<table border=\"1\" class=\"dataframe\">\n",
       "  <thead>\n",
       "    <tr style=\"text-align: right;\">\n",
       "      <th></th>\n",
       "      <th>User ID</th>\n",
       "      <th>Gender</th>\n",
       "      <th>Age</th>\n",
       "      <th>EstimatedSalary</th>\n",
       "      <th>Purchased</th>\n",
       "    </tr>\n",
       "  </thead>\n",
       "  <tbody>\n",
       "    <tr>\n",
       "      <th>count</th>\n",
       "      <td>4.000000e+02</td>\n",
       "      <td>400</td>\n",
       "      <td>400.000000</td>\n",
       "      <td>400.000000</td>\n",
       "      <td>400.000000</td>\n",
       "    </tr>\n",
       "    <tr>\n",
       "      <th>unique</th>\n",
       "      <td>NaN</td>\n",
       "      <td>2</td>\n",
       "      <td>NaN</td>\n",
       "      <td>NaN</td>\n",
       "      <td>NaN</td>\n",
       "    </tr>\n",
       "    <tr>\n",
       "      <th>top</th>\n",
       "      <td>NaN</td>\n",
       "      <td>Male</td>\n",
       "      <td>NaN</td>\n",
       "      <td>NaN</td>\n",
       "      <td>NaN</td>\n",
       "    </tr>\n",
       "    <tr>\n",
       "      <th>freq</th>\n",
       "      <td>NaN</td>\n",
       "      <td>208</td>\n",
       "      <td>NaN</td>\n",
       "      <td>NaN</td>\n",
       "      <td>NaN</td>\n",
       "    </tr>\n",
       "    <tr>\n",
       "      <th>mean</th>\n",
       "      <td>1.548762e+07</td>\n",
       "      <td>NaN</td>\n",
       "      <td>38.127500</td>\n",
       "      <td>82703.757500</td>\n",
       "      <td>0.490000</td>\n",
       "    </tr>\n",
       "    <tr>\n",
       "      <th>std</th>\n",
       "      <td>2.917693e+05</td>\n",
       "      <td>NaN</td>\n",
       "      <td>12.120169</td>\n",
       "      <td>38960.457201</td>\n",
       "      <td>0.500526</td>\n",
       "    </tr>\n",
       "    <tr>\n",
       "      <th>min</th>\n",
       "      <td>1.500060e+07</td>\n",
       "      <td>NaN</td>\n",
       "      <td>18.000000</td>\n",
       "      <td>15416.000000</td>\n",
       "      <td>0.000000</td>\n",
       "    </tr>\n",
       "    <tr>\n",
       "      <th>25%</th>\n",
       "      <td>1.523076e+07</td>\n",
       "      <td>NaN</td>\n",
       "      <td>28.000000</td>\n",
       "      <td>48929.500000</td>\n",
       "      <td>0.000000</td>\n",
       "    </tr>\n",
       "    <tr>\n",
       "      <th>50%</th>\n",
       "      <td>1.548491e+07</td>\n",
       "      <td>NaN</td>\n",
       "      <td>38.000000</td>\n",
       "      <td>81317.000000</td>\n",
       "      <td>0.000000</td>\n",
       "    </tr>\n",
       "    <tr>\n",
       "      <th>75%</th>\n",
       "      <td>1.573965e+07</td>\n",
       "      <td>NaN</td>\n",
       "      <td>48.000000</td>\n",
       "      <td>119596.750000</td>\n",
       "      <td>1.000000</td>\n",
       "    </tr>\n",
       "    <tr>\n",
       "      <th>max</th>\n",
       "      <td>1.599982e+07</td>\n",
       "      <td>NaN</td>\n",
       "      <td>59.000000</td>\n",
       "      <td>149217.000000</td>\n",
       "      <td>1.000000</td>\n",
       "    </tr>\n",
       "  </tbody>\n",
       "</table>\n",
       "</div>"
      ],
      "text/plain": [
       "             User ID Gender         Age  EstimatedSalary   Purchased\n",
       "count   4.000000e+02    400  400.000000       400.000000  400.000000\n",
       "unique           NaN      2         NaN              NaN         NaN\n",
       "top              NaN   Male         NaN              NaN         NaN\n",
       "freq             NaN    208         NaN              NaN         NaN\n",
       "mean    1.548762e+07    NaN   38.127500     82703.757500    0.490000\n",
       "std     2.917693e+05    NaN   12.120169     38960.457201    0.500526\n",
       "min     1.500060e+07    NaN   18.000000     15416.000000    0.000000\n",
       "25%     1.523076e+07    NaN   28.000000     48929.500000    0.000000\n",
       "50%     1.548491e+07    NaN   38.000000     81317.000000    0.000000\n",
       "75%     1.573965e+07    NaN   48.000000    119596.750000    1.000000\n",
       "max     1.599982e+07    NaN   59.000000    149217.000000    1.000000"
      ]
     },
     "execution_count": 6,
     "metadata": {},
     "output_type": "execute_result"
    }
   ],
   "source": [
    "df.describe(include=\"all\")"
   ]
  },
  {
   "cell_type": "code",
   "execution_count": 7,
   "metadata": {
    "colab": {
     "base_uri": "https://localhost:8080/"
    },
    "id": "8FAOb-eEjO0x",
    "outputId": "7dbd6186-f6c5-4a0a-e31c-afa98d687d22"
   },
   "outputs": [
    {
     "data": {
      "text/plain": [
       "(400, 5)"
      ]
     },
     "execution_count": 7,
     "metadata": {},
     "output_type": "execute_result"
    }
   ],
   "source": [
    "df.shape"
   ]
  },
  {
   "cell_type": "code",
   "execution_count": 8,
   "metadata": {
    "colab": {
     "base_uri": "https://localhost:8080/"
    },
    "id": "jlth24iHjQiT",
    "outputId": "3d34ef23-476b-496e-ced6-c53a6d002615"
   },
   "outputs": [
    {
     "data": {
      "text/plain": [
       "2000"
      ]
     },
     "execution_count": 8,
     "metadata": {},
     "output_type": "execute_result"
    }
   ],
   "source": [
    "df.size"
   ]
  },
  {
   "cell_type": "code",
   "execution_count": 9,
   "metadata": {
    "colab": {
     "base_uri": "https://localhost:8080/"
    },
    "id": "bxy_OQ0mjRt4",
    "outputId": "b1bf00cc-a641-4974-9692-46b07a8a2946"
   },
   "outputs": [
    {
     "data": {
      "text/plain": [
       "2"
      ]
     },
     "execution_count": 9,
     "metadata": {},
     "output_type": "execute_result"
    }
   ],
   "source": [
    "df.ndim"
   ]
  },
  {
   "cell_type": "code",
   "execution_count": 10,
   "metadata": {
    "colab": {
     "base_uri": "https://localhost:8080/"
    },
    "id": "CSrYyVTjjS9H",
    "outputId": "db88ce4f-bdbb-4c0f-c61a-5ab67728b14b"
   },
   "outputs": [
    {
     "data": {
      "text/plain": [
       "Index(['User ID', 'Gender', 'Age', 'EstimatedSalary', 'Purchased'], dtype='object')"
      ]
     },
     "execution_count": 10,
     "metadata": {},
     "output_type": "execute_result"
    }
   ],
   "source": [
    "df.columns"
   ]
  },
  {
   "cell_type": "code",
   "execution_count": 11,
   "metadata": {
    "colab": {
     "base_uri": "https://localhost:8080/",
     "height": 423
    },
    "id": "RXw_QKyIjT1T",
    "outputId": "30439703-2f50-40f5-bbe7-4b5db91da831"
   },
   "outputs": [
    {
     "data": {
      "text/html": [
       "<div>\n",
       "<style scoped>\n",
       "    .dataframe tbody tr th:only-of-type {\n",
       "        vertical-align: middle;\n",
       "    }\n",
       "\n",
       "    .dataframe tbody tr th {\n",
       "        vertical-align: top;\n",
       "    }\n",
       "\n",
       "    .dataframe thead th {\n",
       "        text-align: right;\n",
       "    }\n",
       "</style>\n",
       "<table border=\"1\" class=\"dataframe\">\n",
       "  <thead>\n",
       "    <tr style=\"text-align: right;\">\n",
       "      <th></th>\n",
       "      <th>User ID</th>\n",
       "      <th>Gender</th>\n",
       "      <th>Age</th>\n",
       "      <th>EstimatedSalary</th>\n",
       "      <th>Purchased</th>\n",
       "    </tr>\n",
       "  </thead>\n",
       "  <tbody>\n",
       "    <tr>\n",
       "      <th>0</th>\n",
       "      <td>False</td>\n",
       "      <td>False</td>\n",
       "      <td>False</td>\n",
       "      <td>False</td>\n",
       "      <td>False</td>\n",
       "    </tr>\n",
       "    <tr>\n",
       "      <th>1</th>\n",
       "      <td>False</td>\n",
       "      <td>False</td>\n",
       "      <td>False</td>\n",
       "      <td>False</td>\n",
       "      <td>False</td>\n",
       "    </tr>\n",
       "    <tr>\n",
       "      <th>2</th>\n",
       "      <td>False</td>\n",
       "      <td>False</td>\n",
       "      <td>False</td>\n",
       "      <td>False</td>\n",
       "      <td>False</td>\n",
       "    </tr>\n",
       "    <tr>\n",
       "      <th>3</th>\n",
       "      <td>False</td>\n",
       "      <td>False</td>\n",
       "      <td>False</td>\n",
       "      <td>False</td>\n",
       "      <td>False</td>\n",
       "    </tr>\n",
       "    <tr>\n",
       "      <th>4</th>\n",
       "      <td>False</td>\n",
       "      <td>False</td>\n",
       "      <td>False</td>\n",
       "      <td>False</td>\n",
       "      <td>False</td>\n",
       "    </tr>\n",
       "    <tr>\n",
       "      <th>...</th>\n",
       "      <td>...</td>\n",
       "      <td>...</td>\n",
       "      <td>...</td>\n",
       "      <td>...</td>\n",
       "      <td>...</td>\n",
       "    </tr>\n",
       "    <tr>\n",
       "      <th>395</th>\n",
       "      <td>False</td>\n",
       "      <td>False</td>\n",
       "      <td>False</td>\n",
       "      <td>False</td>\n",
       "      <td>False</td>\n",
       "    </tr>\n",
       "    <tr>\n",
       "      <th>396</th>\n",
       "      <td>False</td>\n",
       "      <td>False</td>\n",
       "      <td>False</td>\n",
       "      <td>False</td>\n",
       "      <td>False</td>\n",
       "    </tr>\n",
       "    <tr>\n",
       "      <th>397</th>\n",
       "      <td>False</td>\n",
       "      <td>False</td>\n",
       "      <td>False</td>\n",
       "      <td>False</td>\n",
       "      <td>False</td>\n",
       "    </tr>\n",
       "    <tr>\n",
       "      <th>398</th>\n",
       "      <td>False</td>\n",
       "      <td>False</td>\n",
       "      <td>False</td>\n",
       "      <td>False</td>\n",
       "      <td>False</td>\n",
       "    </tr>\n",
       "    <tr>\n",
       "      <th>399</th>\n",
       "      <td>False</td>\n",
       "      <td>False</td>\n",
       "      <td>False</td>\n",
       "      <td>False</td>\n",
       "      <td>False</td>\n",
       "    </tr>\n",
       "  </tbody>\n",
       "</table>\n",
       "<p>400 rows × 5 columns</p>\n",
       "</div>"
      ],
      "text/plain": [
       "     User ID  Gender    Age  EstimatedSalary  Purchased\n",
       "0      False   False  False            False      False\n",
       "1      False   False  False            False      False\n",
       "2      False   False  False            False      False\n",
       "3      False   False  False            False      False\n",
       "4      False   False  False            False      False\n",
       "..       ...     ...    ...              ...        ...\n",
       "395    False   False  False            False      False\n",
       "396    False   False  False            False      False\n",
       "397    False   False  False            False      False\n",
       "398    False   False  False            False      False\n",
       "399    False   False  False            False      False\n",
       "\n",
       "[400 rows x 5 columns]"
      ]
     },
     "execution_count": 11,
     "metadata": {},
     "output_type": "execute_result"
    }
   ],
   "source": [
    "df.isnull()"
   ]
  },
  {
   "cell_type": "code",
   "execution_count": 12,
   "metadata": {
    "colab": {
     "base_uri": "https://localhost:8080/",
     "height": 240
    },
    "id": "OCaO9-15jWQg",
    "outputId": "8bbe2a8a-cf61-47df-a22e-16479b4aef60"
   },
   "outputs": [
    {
     "data": {
      "text/plain": [
       "User ID            0\n",
       "Gender             0\n",
       "Age                0\n",
       "EstimatedSalary    0\n",
       "Purchased          0\n",
       "dtype: int64"
      ]
     },
     "execution_count": 12,
     "metadata": {},
     "output_type": "execute_result"
    }
   ],
   "source": [
    "df.isna().sum()"
   ]
  },
  {
   "cell_type": "code",
   "execution_count": 13,
   "metadata": {
    "id": "NjV6eb_yjYMd"
   },
   "outputs": [],
   "source": [
    "#select the features and target variable\n",
    "# Selecting independent variables (features) and dependent variable (target)\n",
    "X = df[['Age', 'EstimatedSalary']]  # Assuming these are features\n",
    "y = df['Purchased']  # Target variable\n"
   ]
  },
  {
   "cell_type": "code",
   "execution_count": 14,
   "metadata": {
    "colab": {
     "base_uri": "https://localhost:8080/"
    },
    "id": "rQq6XGQhjvWn",
    "outputId": "06c6df23-aa71-4b9a-b3a2-cfe742299dba"
   },
   "outputs": [
    {
     "name": "stdout",
     "output_type": "stream",
     "text": [
      "\n",
      "Training Set Size: (320, 2)\n",
      "Testing Set Size: (80, 2)\n"
     ]
    }
   ],
   "source": [
    "# Splitting dataset into training (80%) and testing (20%) sets\n",
    "X_train, X_test, y_train, y_test = train_test_split(X, y, test_size=0.2, random_state=42)\n",
    "\n",
    "print(\"\\nTraining Set Size:\", X_train.shape)\n",
    "print(\"Testing Set Size:\", X_test.shape)\n"
   ]
  },
  {
   "cell_type": "code",
   "execution_count": 52,
   "metadata": {},
   "outputs": [
    {
     "data": {
      "text/plain": [
       "array([[-1.14285341,  1.33743149],\n",
       "       [-1.55872002, -0.17215685],\n",
       "       [ 1.43551954, -1.32782826],\n",
       "       [ 0.1047464 , -0.11989438],\n",
       "       [-1.4755467 , -0.53111022],\n",
       "       [-1.64189334, -0.46282733],\n",
       "       [-1.64189334,  0.27003685],\n",
       "       [ 1.10282625, -1.6585118 ],\n",
       "       [-0.06160024, -1.36164069],\n",
       "       [ 0.60378633, -0.17005623],\n",
       "       [ 0.18791972,  0.08348638],\n",
       "       [-0.47746685,  0.74829545],\n",
       "       [-1.22602673,  0.38769702],\n",
       "       [-0.56064017, -1.54474917],\n",
       "       [ 0.85330629,  0.91072672],\n",
       "       [-1.4755467 , -0.13199194],\n",
       "       [-1.4755467 ,  0.74252506],\n",
       "       [-0.72698681, -1.42488714],\n",
       "       [-0.56064017, -0.51498857],\n",
       "       [ 0.27109304, -1.44138842],\n",
       "       [ 0.77013297,  1.60372969],\n",
       "       [ 0.60378633, -0.45067915],\n",
       "       [ 0.27109304,  1.25953129],\n",
       "       [-0.97650677,  1.34669448],\n",
       "       [ 1.26917289,  0.36385622],\n",
       "       [ 1.6850395 ,  0.63744332],\n",
       "       [-0.22794688,  0.04795296],\n",
       "       [ 1.76821282,  1.37620443],\n",
       "       [ 0.02157308,  0.21450955],\n",
       "       [-0.89333345,  1.29643139],\n",
       "       [-0.22794688, -0.23482121],\n",
       "       [ 0.02157308, -0.11857832],\n",
       "       [-0.97650677, -0.10850546],\n",
       "       [-0.89333345, -0.85680795],\n",
       "       [-0.39429352, -1.47740271],\n",
       "       [-0.14477356, -1.15453955],\n",
       "       [-0.56064017, -1.388721  ],\n",
       "       [-0.14477356, -0.52212563],\n",
       "       [-0.72698681, -1.12280244],\n",
       "       [ 0.02157308,  0.91323228],\n",
       "       [ 1.6850395 , -1.61022279],\n",
       "       [-1.14285341, -0.90097164],\n",
       "       [-0.22794688,  0.12296796],\n",
       "       [ 0.77013297,  1.03590357],\n",
       "       [ 0.93647961,  1.24973683],\n",
       "       [-0.39429352, -1.68197297],\n",
       "       [ 1.6850395 ,  0.11874141],\n",
       "       [-1.14285341, -0.80821523],\n",
       "       [ 0.02157308, -1.16248649],\n",
       "       [ 0.27109304, -0.60394867],\n",
       "       [-0.81016013, -0.85675733],\n",
       "       [ 0.35426636,  0.61841117],\n",
       "       [-0.06160024, -0.88849444],\n",
       "       [-0.22794688, -0.32395847],\n",
       "       [-1.05968009,  0.80853017],\n",
       "       [ 0.18791972,  0.82908084],\n",
       "       [-0.81016013,  1.58477347],\n",
       "       [-1.22602673,  0.71797562],\n",
       "       [-0.64381349, -0.01410399],\n",
       "       [-1.22602673,  1.46152007],\n",
       "       [-1.30920006,  1.32834566],\n",
       "       [ 1.35234622,  0.64417544],\n",
       "       [ 0.43743968,  1.55430178],\n",
       "       [-1.64189334,  0.78109553],\n",
       "       [-1.39237338, -0.93124085],\n",
       "       [-1.55872002,  1.2304769 ],\n",
       "       [-0.39429352, -0.89661854],\n",
       "       [ 0.60378633,  0.16637239],\n",
       "       [ 0.18791972,  1.43638853],\n",
       "       [-1.30920006, -0.88188887],\n",
       "       [ 0.35426636, -0.70179213],\n",
       "       [ 0.52061301,  1.49702818],\n",
       "       [ 1.51869286,  0.98240097],\n",
       "       [-1.05968009, -0.73869222],\n",
       "       [ 0.85330629, -0.95475264],\n",
       "       [-1.05968009, -1.46639342],\n",
       "       [-0.89333345, -1.51356885],\n",
       "       [ 1.10282625,  0.67173662],\n",
       "       [-0.64381349,  1.57862345],\n",
       "       [-1.22602673, -1.44498226],\n",
       "       [ 0.93647961, -1.05760721],\n",
       "       [ 0.1047464 ,  0.45312002],\n",
       "       [-0.97650677,  0.60983152],\n",
       "       [-0.64381349,  1.39311064],\n",
       "       [-0.72698681, -1.6712927 ],\n",
       "       [ 0.93647961,  0.4016168 ],\n",
       "       [-0.97650677, -1.34729065],\n",
       "       [ 1.51869286,  0.49141209],\n",
       "       [ 0.60378633,  1.22111268],\n",
       "       [-1.55872002, -0.48284652],\n",
       "       [ 0.68695965,  1.11175376],\n",
       "       [-0.72698681,  1.19228606],\n",
       "       [ 0.77013297,  1.43793236],\n",
       "       [ 1.26917289,  0.67991133],\n",
       "       [ 1.51869286,  0.56523758],\n",
       "       [-1.14285341,  1.22521269],\n",
       "       [ 1.6850395 , -0.63867222],\n",
       "       [ 0.93647961,  0.73528677],\n",
       "       [ 0.52061301, -0.13044811],\n",
       "       [-1.14285341, -1.40679142],\n",
       "       [-1.14285341,  0.64695939],\n",
       "       [ 0.02157308,  1.07748578],\n",
       "       [-0.56064017, -1.65625933],\n",
       "       [-1.64189334,  0.01593745],\n",
       "       [ 0.1047464 , -0.76271018],\n",
       "       [ 1.43551954, -0.40271916],\n",
       "       [ 1.26917289,  0.98979111],\n",
       "       [ 0.1047464 , -1.719278  ],\n",
       "       [ 0.93647961, -1.05274794],\n",
       "       [ 0.85330629,  1.3092629 ],\n",
       "       [ 1.60186618,  1.60185684],\n",
       "       [ 1.60186618,  1.0475962 ],\n",
       "       [ 1.35234622,  1.0900389 ],\n",
       "       [ 1.43551954, -1.08443444],\n",
       "       [-1.14285341, -0.95001991],\n",
       "       [-0.72698681, -1.37895184],\n",
       "       [ 1.10282625,  0.73832382],\n",
       "       [-0.89333345,  1.21010339],\n",
       "       [-0.3111202 , -1.50157252],\n",
       "       [-0.3111202 ,  1.15156436],\n",
       "       [ 0.43743968, -1.04849608],\n",
       "       [-0.39429352,  0.12443586],\n",
       "       [-1.14285341, -1.13912655],\n",
       "       [-0.56064017, -0.66471487],\n",
       "       [-0.56064017, -1.2663028 ],\n",
       "       [ 0.35426636,  1.49204237],\n",
       "       [ 1.35234622, -1.46801318],\n",
       "       [ 0.52061301,  1.19555089],\n",
       "       [ 1.26917289, -0.88092714],\n",
       "       [-0.97650677,  0.61904389],\n",
       "       [-0.22794688,  0.94385581],\n",
       "       [ 0.02157308, -0.49836075],\n",
       "       [-1.14285341, -1.65924575],\n",
       "       [ 1.51869286, -0.54829483],\n",
       "       [ 1.35234622,  0.22291204],\n",
       "       [ 1.43551954,  1.10654017],\n",
       "       [-0.47746685,  1.21893613],\n",
       "       [ 0.85330629, -0.63897592],\n",
       "       [-0.06160024, -0.33122206],\n",
       "       [-0.72698681,  1.03828259],\n",
       "       [ 1.76821282, -0.98084591],\n",
       "       [ 0.43743968, -1.14730126],\n",
       "       [ 1.01965293, -1.01025463],\n",
       "       [-0.22794688, -1.69404522],\n",
       "       [-1.14285341,  1.33983582],\n",
       "       [ 0.27109304, -0.0923585 ],\n",
       "       [-0.64381349, -0.01023176],\n",
       "       [-1.14285341, -1.16238525],\n",
       "       [-1.05968009, -0.15588335],\n",
       "       [-0.06160024,  1.05268325],\n",
       "       [ 0.35426636, -1.31671774],\n",
       "       [ 1.35234622, -1.47573233],\n",
       "       [-0.47746685,  1.28056283],\n",
       "       [-0.22794688, -0.98370579],\n",
       "       [-1.55872002,  1.09922596],\n",
       "       [-1.55872002,  0.45681509],\n",
       "       [-0.72698681,  1.23242567],\n",
       "       [-0.72698681,  0.90257732],\n",
       "       [-1.22602673,  0.31835116],\n",
       "       [ 1.76821282, -0.46852179],\n",
       "       [-0.97650677,  0.84682224],\n",
       "       [ 1.51869286, -0.65671732],\n",
       "       [ 0.77013297,  0.24280468],\n",
       "       [-0.72698681, -0.90788091],\n",
       "       [ 0.18791972, -0.96168722],\n",
       "       [ 1.35234622,  0.92998664],\n",
       "       [-1.55872002, -1.06168191],\n",
       "       [-1.39237338,  0.03924676],\n",
       "       [ 0.60378633,  0.34168579],\n",
       "       [ 1.60186618, -1.3305616 ],\n",
       "       [ 0.18791972, -0.80755721],\n",
       "       [ 0.77013297,  0.5626814 ],\n",
       "       [ 0.68695965,  1.31715922],\n",
       "       [ 0.68695965,  0.49571457],\n",
       "       [-0.14477356, -1.00822993],\n",
       "       [ 0.60378633,  0.16887795],\n",
       "       [-0.3111202 ,  1.18411135],\n",
       "       [-1.55872002, -1.36933454],\n",
       "       [-0.81016013,  0.24991643],\n",
       "       [-0.72698681, -1.32962518],\n",
       "       [ 0.52061301, -0.17924329],\n",
       "       [-0.89333345, -1.53910533],\n",
       "       [-1.22602673,  1.54263447],\n",
       "       [ 0.43743968, -1.06540229],\n",
       "       [-1.14285341,  1.05470794],\n",
       "       [-1.39237338,  0.63255874],\n",
       "       [-0.64381349,  0.23716084],\n",
       "       [ 0.52061301, -0.81871834],\n",
       "       [-0.97650677, -0.15628829],\n",
       "       [ 0.52061301, -1.642213  ],\n",
       "       [ 1.35234622,  0.01001521],\n",
       "       [ 0.85330629, -1.56950109],\n",
       "       [ 1.35234622, -1.31962824],\n",
       "       [-0.89333345,  1.00426769],\n",
       "       [-0.47746685, -0.35116532],\n",
       "       [-0.72698681,  0.03901898],\n",
       "       [-0.06160024, -0.65221237],\n",
       "       [ 1.43551954,  0.68388479],\n",
       "       [ 1.51869286, -0.7906763 ],\n",
       "       [ 1.76821282, -1.29249731],\n",
       "       [ 1.60186618,  1.56067958],\n",
       "       [ 1.6850395 , -0.41628462],\n",
       "       [ 0.52061301, -1.39340311],\n",
       "       [-0.97650677,  0.41576437],\n",
       "       [ 0.35426636,  0.1637909 ],\n",
       "       [-1.05968009,  0.92651935],\n",
       "       [ 1.43551954,  0.84841669],\n",
       "       [-0.47746685, -0.42392785],\n",
       "       [ 0.60378633, -1.20695388],\n",
       "       [-0.39429352, -0.15436483],\n",
       "       [-1.22602673,  1.44167805],\n",
       "       [ 0.18791972,  0.67236933],\n",
       "       [-0.89333345,  1.20185276],\n",
       "       [-1.05968009,  0.14612543],\n",
       "       [ 0.85330629,  1.50573438],\n",
       "       [ 1.35234622, -0.47267242],\n",
       "       [ 1.6850395 ,  1.18041628],\n",
       "       [ 0.1047464 ,  1.00986092],\n",
       "       [-0.56064017, -0.1571741 ],\n",
       "       [ 0.18791972,  0.38438158],\n",
       "       [-1.64189334, -1.29725534],\n",
       "       [ 0.77013297, -0.06598683],\n",
       "       [ 0.85330629, -1.55082326],\n",
       "       [-0.47746685,  0.37876304],\n",
       "       [-0.81016013,  0.30559558],\n",
       "       [ 1.51869286,  0.27940107],\n",
       "       [-0.81016013,  0.25637015],\n",
       "       [ 1.18599957, -0.83630789],\n",
       "       [ 0.1047464 , -0.13386478],\n",
       "       [ 0.52061301,  1.56445058],\n",
       "       [-1.55872002, -1.64502226],\n",
       "       [ 0.18791972, -1.10126473],\n",
       "       [ 0.93647961,  0.09085121],\n",
       "       [ 0.43743968, -1.51698552],\n",
       "       [ 1.76821282,  0.54858446],\n",
       "       [-1.55872002,  1.27150231],\n",
       "       [ 1.18599957, -1.24838423],\n",
       "       [ 0.35426636, -1.47568172],\n",
       "       [-1.64189334, -0.29080406],\n",
       "       [-0.22794688,  1.1045914 ],\n",
       "       [-1.4755467 , -0.86882958],\n",
       "       [-1.64189334, -0.60739066],\n",
       "       [-0.22794688,  1.55951538],\n",
       "       [ 1.76821282, -0.57681774],\n",
       "       [-0.14477356,  0.02881958],\n",
       "       [-0.81016013,  1.30470733],\n",
       "       [ 0.1047464 ,  1.23614605],\n",
       "       [-1.55872002,  0.35299878],\n",
       "       [-0.89333345,  0.6376711 ],\n",
       "       [-0.64381349, -1.36424749],\n",
       "       [-0.64381349, -1.41058773],\n",
       "       [ 0.68695965,  0.4039199 ],\n",
       "       [ 1.26917289, -1.72935087],\n",
       "       [-0.47746685,  0.59153333],\n",
       "       [-0.72698681, -0.6662587 ],\n",
       "       [ 1.43551954,  0.49882754],\n",
       "       [-1.22602673, -1.72547864],\n",
       "       [ 0.18791972,  0.84654384],\n",
       "       [ 1.35234622, -0.01293979],\n",
       "       [-1.05968009, -0.78650036],\n",
       "       [ 0.27109304, -1.19941189],\n",
       "       [ 1.26917289, -0.62870059],\n",
       "       [ 1.10282625,  0.54354802],\n",
       "       [ 1.43551954, -0.36536351],\n",
       "       [-0.64381349, -0.26405276],\n",
       "       [-1.4755467 ,  1.08586296],\n",
       "       [-1.05968009, -0.2731892 ],\n",
       "       [ 1.51869286, -0.97540454],\n",
       "       [ 0.77013297, -1.29371212],\n",
       "       [-0.22794688,  1.41568601],\n",
       "       [-1.22602673,  1.61180316],\n",
       "       [-0.06160024, -1.44407114],\n",
       "       [ 1.76821282,  0.93983173],\n",
       "       [-0.47746685,  0.03046464],\n",
       "       [-0.06160024, -0.77685775],\n",
       "       [ 0.68695965, -1.28880224],\n",
       "       [-1.64189334, -0.05697693],\n",
       "       [-1.22602673,  1.18059344],\n",
       "       [-0.22794688, -1.01564538],\n",
       "       [ 0.02157308, -0.27367007],\n",
       "       [ 1.43551954,  0.22088734],\n",
       "       [-0.56064017,  1.3345463 ],\n",
       "       [ 0.02157308, -0.16398214],\n",
       "       [ 1.18599957,  1.35028831],\n",
       "       [ 1.35234622,  1.35438832],\n",
       "       [-0.56064017, -1.4317458 ],\n",
       "       [ 0.02157308, -0.50714287],\n",
       "       [-1.39237338, -0.68017849],\n",
       "       [-0.72698681, -0.56836463],\n",
       "       [ 1.01965293, -0.46320696],\n",
       "       [-1.14285341,  0.93601012],\n",
       "       [ 0.60378633,  1.63030383],\n",
       "       [ 0.43743968,  1.25905043],\n",
       "       [ 1.10282625, -0.2266718 ],\n",
       "       [ 1.43551954, -0.40790744],\n",
       "       [ 0.35426636, -0.97353169],\n",
       "       [-1.39237338, -0.59612828],\n",
       "       [-1.14285341,  1.3168302 ],\n",
       "       [ 0.35426636,  0.60312472],\n",
       "       [ 0.77013297, -0.99175396],\n",
       "       [-0.22794688, -0.42949577],\n",
       "       [ 0.27109304,  0.9173576 ],\n",
       "       [-1.05968009,  1.5584271 ],\n",
       "       [ 0.77013297, -0.49727248],\n",
       "       [-1.30920006,  0.62443465],\n",
       "       [-0.89333345,  1.62590011],\n",
       "       [ 0.18791972,  0.45476509],\n",
       "       [ 0.27109304,  1.22422565],\n",
       "       [-0.47746685,  0.69428667],\n",
       "       [ 1.76821282, -0.08233626],\n",
       "       [-0.64381349,  1.48179234],\n",
       "       [ 1.26917289,  0.93092307],\n",
       "       [ 1.60186618,  1.64675448],\n",
       "       [-0.22794688, -0.2787065 ],\n",
       "       [ 1.51869286, -0.66656241],\n",
       "       [ 0.77013297, -0.63900123],\n",
       "       [-0.72698681,  1.20650956],\n",
       "       [-0.64381349,  1.33960804],\n",
       "       [ 0.27109304,  0.2434374 ],\n",
       "       [ 1.01965293,  0.90624708]])"
      ]
     },
     "execution_count": 52,
     "metadata": {},
     "output_type": "execute_result"
    }
   ],
   "source": [
    "X_train"
   ]
  },
  {
   "cell_type": "code",
   "execution_count": 27,
   "metadata": {},
   "outputs": [],
   "source": [
    "sc = StandardScaler()\n",
    "X_train = sc.fit_transform(X_train)\n",
    "X_test = sc.transform(X_test)"
   ]
  },
  {
   "cell_type": "code",
   "execution_count": 28,
   "metadata": {
    "id": "u-8c60VAj0tk"
   },
   "outputs": [],
   "source": [
    "# Train the Logistic Regression model\n",
    "model = LogisticRegression()\n",
    "model.fit(X_train, y_train)\n",
    "\n",
    "# Make predictions on the test set\n",
    "y_pred = model.predict(X_test)\n"
   ]
  },
  {
   "cell_type": "code",
   "execution_count": 29,
   "metadata": {},
   "outputs": [
    {
     "data": {
      "text/plain": [
       "array([1, 0, 0, 0, 0, 1, 0, 1, 1, 0, 0, 1, 0, 1, 1, 1, 1, 0, 1, 0, 1, 1,\n",
       "       1, 1, 1, 0, 0, 1, 0, 1, 1, 1, 0, 0, 0, 1, 0, 1, 1, 1, 0, 0, 0, 1,\n",
       "       0, 0, 0, 1, 1, 1, 1, 1, 1, 1, 1, 1, 0, 0, 0, 1, 1, 1, 1, 0, 1, 1,\n",
       "       1, 1, 0, 0, 0, 0, 0, 0, 1, 0, 0, 1, 1, 0], dtype=int64)"
      ]
     },
     "execution_count": 29,
     "metadata": {},
     "output_type": "execute_result"
    }
   ],
   "source": [
    "y_pred"
   ]
  },
  {
   "cell_type": "code",
   "execution_count": 30,
   "metadata": {},
   "outputs": [
    {
     "data": {
      "text/plain": [
       "array([1, 0, 0, 1, 0, 1, 0, 1, 1, 0, 0, 1, 0, 1, 0, 0, 1, 0, 1, 0, 1, 1,\n",
       "       1, 1, 0, 0, 0, 1, 1, 1, 1, 1, 0, 0, 0, 1, 0, 0, 1, 1, 0, 1, 1, 1,\n",
       "       0, 1, 0, 1, 0, 0, 1, 1, 1, 1, 1, 1, 0, 0, 0, 1, 1, 1, 1, 0, 0, 1,\n",
       "       1, 0, 0, 0, 0, 1, 1, 1, 1, 0, 0, 0, 0, 1], dtype=int64)"
      ]
     },
     "execution_count": 30,
     "metadata": {},
     "output_type": "execute_result"
    }
   ],
   "source": [
    "y_test.values"
   ]
  },
  {
   "cell_type": "code",
   "execution_count": 31,
   "metadata": {
    "colab": {
     "base_uri": "https://localhost:8080/"
    },
    "id": "4fqV_Fh9j5HC",
    "outputId": "0015efa3-ab2d-4741-e5fc-3c0886a10097"
   },
   "outputs": [
    {
     "name": "stdout",
     "output_type": "stream",
     "text": [
      "\n",
      "Accuracy: 0.7625\n"
     ]
    }
   ],
   "source": [
    "accuracy = accuracy_score(y_test, y_pred)\n",
    "print(f\"\\nAccuracy: {accuracy:.4f}\")\n"
   ]
  },
  {
   "cell_type": "code",
   "execution_count": 32,
   "metadata": {
    "colab": {
     "base_uri": "https://localhost:8080/"
    },
    "id": "MUlQPuxQj9O3",
    "outputId": "1070729e-6eff-46bd-b09d-6f6eeee7dd51"
   },
   "outputs": [
    {
     "name": "stdout",
     "output_type": "stream",
     "text": [
      "\n",
      "Confusion Matrix:\n",
      "[[27 10]\n",
      " [ 9 34]]\n",
      "\n",
      "True Positives (TP): 34\n",
      "False Positives (FP): 10\n",
      "True Negatives (TN): 27\n",
      "False Negatives (FN): 9\n"
     ]
    }
   ],
   "source": [
    "# Compute confusion matrix\n",
    "cm = confusion_matrix(y_test, y_pred)\n",
    "\n",
    "# Extract values\n",
    "TN, FP, FN, TP = cm.ravel()\n",
    "\n",
    "# Print confusion matrix and extracted values\n",
    "print(\"\\nConfusion Matrix:\")\n",
    "print(cm)\n",
    "print(f\"\\nTrue Positives (TP): {TP}\")\n",
    "print(f\"False Positives (FP): {FP}\")\n",
    "print(f\"True Negatives (TN): {TN}\")\n",
    "print(f\"False Negatives (FN): {FN}\")"
   ]
  },
  {
   "cell_type": "code",
   "execution_count": 33,
   "metadata": {
    "colab": {
     "base_uri": "https://localhost:8080/"
    },
    "id": "hnW6etS3kD-L",
    "outputId": "ff8bb02d-2cfc-4c51-c050-d8e2d6b2b249"
   },
   "outputs": [
    {
     "name": "stdout",
     "output_type": "stream",
     "text": [
      "\n",
      "Precision: 0.7727\n"
     ]
    }
   ],
   "source": [
    "precision = precision_score(y_test, y_pred)\n",
    "print(f\"\\nPrecision: {precision:.4f}\")\n"
   ]
  },
  {
   "cell_type": "code",
   "execution_count": 34,
   "metadata": {
    "colab": {
     "base_uri": "https://localhost:8080/"
    },
    "id": "V31-9v2xkHbD",
    "outputId": "55c04f27-08e4-4215-8a47-cf72de08ad68"
   },
   "outputs": [
    {
     "name": "stdout",
     "output_type": "stream",
     "text": [
      "\n",
      "Recall: 0.7907\n"
     ]
    }
   ],
   "source": [
    "recall = recall_score(y_test, y_pred)\n",
    "print(f\"\\nRecall: {recall:.4f}\")\n"
   ]
  },
  {
   "cell_type": "code",
   "execution_count": 35,
   "metadata": {
    "colab": {
     "base_uri": "https://localhost:8080/"
    },
    "id": "dxyyBgmzkJrW",
    "outputId": "f7fa8346-3633-4156-b081-9965cfcf5f92"
   },
   "outputs": [
    {
     "name": "stdout",
     "output_type": "stream",
     "text": [
      "\n",
      "Error Rate: 0.2375\n"
     ]
    }
   ],
   "source": [
    "error_rate = 1 - accuracy\n",
    "print(f\"\\nError Rate: {error_rate:.4f}\")\n"
   ]
  },
  {
   "cell_type": "code",
   "execution_count": 36,
   "metadata": {
    "colab": {
     "base_uri": "https://localhost:8080/"
    },
    "id": "aP4jcJywkLVY",
    "outputId": "c5ad8f48-af72-40a2-a70c-e8c68b6d9521"
   },
   "outputs": [
    {
     "name": "stdout",
     "output_type": "stream",
     "text": [
      "\n",
      "F1 Score: 0.7816\n"
     ]
    }
   ],
   "source": [
    "f1 = f1_score(y_test, y_pred)\n",
    "print(f\"\\nF1 Score: {f1:.4f}\")\n"
   ]
  },
  {
   "cell_type": "code",
   "execution_count": 37,
   "metadata": {
    "colab": {
     "base_uri": "https://localhost:8080/"
    },
    "id": "FJpfqiw_kQei",
    "outputId": "fb9963e5-49e0-49ae-a2ef-c626133d342f"
   },
   "outputs": [
    {
     "name": "stdout",
     "output_type": "stream",
     "text": [
      "\n",
      "Classification Report:\n",
      "              precision    recall  f1-score   support\n",
      "\n",
      "           0       0.75      0.73      0.74        37\n",
      "           1       0.77      0.79      0.78        43\n",
      "\n",
      "    accuracy                           0.76        80\n",
      "   macro avg       0.76      0.76      0.76        80\n",
      "weighted avg       0.76      0.76      0.76        80\n",
      "\n"
     ]
    }
   ],
   "source": [
    "# Display detailed classification report\n",
    "print(\"\\nClassification Report:\")\n",
    "print(classification_report(y_test, y_pred))\n"
   ]
  },
  {
   "cell_type": "code",
   "execution_count": 44,
   "metadata": {
    "colab": {
     "base_uri": "https://localhost:8080/",
     "height": 410
    },
    "id": "kobpv96AkVz7",
    "outputId": "a7004cb9-9677-4464-abca-c0934a4d4eb6"
   },
   "outputs": [
    {
     "data": {
      "image/png": "[encoded data removed]",
      "text/plain": [
       "<Figure size 600x500 with 1 Axes>"
      ]
     },
     "metadata": {},
     "output_type": "display_data"
    }
   ],
   "source": [
    "plt.figure(figsize=(6, 5))  # Increase the size to fit all text clearly\n",
    "sns.heatmap(cm, annot=True, fmt='d', cmap='Blues', cbar=False, annot_kws={\"size\": 14})\n",
    "plt.title('Confusion Matrix', fontsize=16)\n",
    "plt.xlabel('Predicted', fontsize=14)\n",
    "plt.ylabel('Actual', fontsize=14)\n",
    "plt.xticks(fontsize=12)\n",
    "plt.yticks(fontsize=12)\n",
    "plt.tight_layout()\n",
    "plt.show()\n"
   ]
  },
  {
   "cell_type": "code",
   "execution_count": 51,
   "metadata": {
    "colab": {
     "base_uri": "https://localhost:8080/",
     "height": 472
    },
    "id": "xNsc5U1AkYBf",
    "outputId": "5794aea0-e851-4ce4-ce0a-3b1d27849a04"
   },
   "outputs": [
    {
     "data": {
      "image/png": "[encoded data removed]",
      "text/plain": [
       "<Figure size 800x600 with 1 Axes>"
      ]
     },
     "metadata": {},
     "output_type": "display_data"
    }
   ],
   "source": [
    "feature_names = ['Age', 'EstimatedSalary']\n",
    "\n",
    "# Turn the scaled array back into a DataFrame\n",
    "X_test_df = pd.DataFrame(X_test, columns=feature_names)\n",
    "\n",
    "plt.figure(figsize=(8,6))\n",
    "sns.scatterplot(\n",
    "    data=X_test_df,\n",
    "    x='Age',\n",
    "    y='EstimatedSalary',\n",
    "    hue=y_pred,        # colors by predicted class\n",
    "    palette='coolwarm',\n",
    "    edgecolor='k'\n",
    ")\n",
    "plt.xlabel('Age (standardized)')\n",
    "plt.ylabel('Estimated Salary (standardized)')\n",
    "plt.title('Logistic Regression Classification')\n",
    "plt.legend(title='purchased')\n",
    "plt.show()\n"
   ]
  },
  {
   "cell_type": "code",
   "execution_count": null,
   "metadata": {},
   "outputs": [],
   "source": []
  }
 ],
 "metadata": {
  "colab": {
   "provenance": []
  },
  "kernelspec": {
   "display_name": "Python 3 (ipykernel)",
   "language": "python",
   "name": "python3"
  },
  "language_info": {
   "codemirror_mode": {
    "name": "ipython",
    "version": 3
   },
   "file_extension": ".py",
   "mimetype": "text/x-python",
   "name": "python",
   "nbconvert_exporter": "python",
   "pygments_lexer": "ipython3",
   "version": "3.11.7"
  }
 },
 "nbformat": 4,
 "nbformat_minor": 4
}
